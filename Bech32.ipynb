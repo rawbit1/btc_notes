{
 "cells": [
  {
   "cell_type": "code",
   "execution_count": 101,
   "metadata": {},
   "outputs": [],
   "source": [
    "# In Jupyter cell 1:\n",
    "import hashlib\n",
    "\n",
    "# Constants and initializations\n",
    "CHARSET = \"qpzry9x8gf2tvdw0s3jn54khce6mua7l\"\n",
    "\n",
    "pubkey_hex = \"0279be667ef9dcbbac55a06295ce870b07029bfcdb2dce28d959f2815b16f81798\"\n",
    "hrp = \"bc\"\n",
    "witver = 0 # 0 for P2WPKH, 1 for P2WSH  (not used in this example)\n",
    "#BECH32M_CONST = 0x2bc830a3"
   ]
  },
  {
   "cell_type": "code",
   "execution_count": 102,
   "metadata": {},
   "outputs": [
    {
     "data": {
      "text/plain": [
       "b'u\\x1ev\\xe8\\x19\\x91\\x96\\xd4T\\x94\\x1cE\\xd1\\xb3\\xa3#\\xf1C;\\xd6'"
      ]
     },
     "execution_count": 102,
     "metadata": {},
     "output_type": "execute_result"
    }
   ],
   "source": [
    "# In Jupyter cell 2:\n",
    "# Compute P2WPKH witness program from public key\n",
    "pubkey_bytes = bytes.fromhex(pubkey_hex)\n",
    "sha256_hash = hashlib.sha256(pubkey_bytes).digest()\n",
    "ripemd160_hash = hashlib.new(\"ripemd160\", sha256_hash).digest()\n",
    "witprog = ripemd160_hash\n",
    "witprog\n"
   ]
  },
  {
   "cell_type": "code",
   "execution_count": 103,
   "metadata": {},
   "outputs": [
    {
     "name": "stdout",
     "output_type": "stream",
     "text": [
      "[14, 20, 15, 7, 13, 26, 0, 25, 18, 6, 11, 13, 8, 21, 4, 20, 3, 17, 2, 29, 3, 12, 29, 3, 4, 15, 24, 20, 6, 14, 30, 22]\n"
     ]
    }
   ],
   "source": [
    "# In Jupyter cell 5:\n",
    "# Convert to base32\n",
    "# the padding is not needed because input of ripemd160 is 160 bits, which is divible by 5\n",
    "acc = 0\n",
    "bits = 0\n",
    "ret = []\n",
    "maxv = (1 << 5) - 1 # 5 bits minus 1 max 32\n",
    "max_acc = (1 << (8 + 5 - 1)) - 1 # 12 bits, 4 bits left and the new 8 bits\n",
    "for value in witprog:\n",
    "    acc = ((acc << 8) | value) & max_acc\n",
    "    bits += 8\n",
    "    while bits >= 5:\n",
    "        bits -= 5\n",
    "        ret.append((acc >> bits) & maxv)\n",
    "converted = ret\n",
    "print(converted)"
   ]
  },
  {
   "cell_type": "code",
   "execution_count": 104,
   "metadata": {},
   "outputs": [
    {
     "name": "stdout",
     "output_type": "stream",
     "text": [
      "[3, 3, 0, 2, 3, 0, 14, 20, 15, 7, 13, 26, 0, 25, 18, 6, 11, 13, 8, 21, 4, 20, 3, 17, 2, 29, 3, 12, 29, 3, 4, 15, 24, 20, 6, 14, 30, 22]\n"
     ]
    }
   ],
   "source": [
    "# In Jupyter cell 3:\n",
    "# Utility for checksum\n",
    "hrp_expanded = [ord(x) >> 5 for x in hrp] + [0] + [ord(x) & 31 for x in hrp]\n",
    "hrp_expanded = hrp_expanded + [witver] + converted\n",
    "print(hrp_expanded)\n",
    "\n",
    "\n"
   ]
  },
  {
   "cell_type": "code",
   "execution_count": 105,
   "metadata": {},
   "outputs": [
    {
     "data": {
      "text/plain": [
       "[12, 7, 9, 17, 11, 21]"
      ]
     },
     "execution_count": 105,
     "metadata": {},
     "output_type": "execute_result"
    }
   ],
   "source": [
    "# In Jupyter cell 4:\n",
    "# Compute checksum\n",
    "generator = [0x3b6a57b2, 0x26508e6d, 0x1ea119fa, 0x3d4233dd, 0x2a1462b3]\n",
    "chk = 1\n",
    "values_for_checksum = hrp_expanded + [0] * 6  # appending zeros for checksum space\n",
    "for value in values_for_checksum:\n",
    "    top = chk >> 25\n",
    "    chk = (chk & 0x1ffffff) << 5 ^ value\n",
    "    for i in range(5):\n",
    "        chk ^= generator[i] if ((top >> i) & 1) else 0\n",
    "polymod = chk ^ 1\n",
    "\n",
    "checksum = [(polymod >> 5 * (5 - i)) & 31 for i in range(6)]\n",
    "checksum\n"
   ]
  },
  {
   "cell_type": "code",
   "execution_count": null,
   "metadata": {},
   "outputs": [],
   "source": [
    "\n"
   ]
  },
  {
   "cell_type": "code",
   "execution_count": 106,
   "metadata": {},
   "outputs": [
    {
     "data": {
      "text/plain": [
       "'bc1qw508d6qejxtdg4y5r3zarvary0c5xw7kv8f3t4'"
      ]
     },
     "execution_count": 106,
     "metadata": {},
     "output_type": "execute_result"
    }
   ],
   "source": [
    "# In Jupyter cell 6:\n",
    "# Construct the final encoded string\n",
    "encoded_data = [0] + converted + checksum\n",
    "segwit_address = hrp + '1' + ''.join([CHARSET[d] for d in encoded_data])\n",
    "segwit_address\n"
   ]
  }
 ],
 "metadata": {
  "kernelspec": {
   "display_name": "btc123",
   "language": "python",
   "name": "python3"
  },
  "language_info": {
   "codemirror_mode": {
    "name": "ipython",
    "version": 3
   },
   "file_extension": ".py",
   "mimetype": "text/x-python",
   "name": "python",
   "nbconvert_exporter": "python",
   "pygments_lexer": "ipython3",
   "version": "3.9.6"
  },
  "orig_nbformat": 4
 },
 "nbformat": 4,
 "nbformat_minor": 2
}
